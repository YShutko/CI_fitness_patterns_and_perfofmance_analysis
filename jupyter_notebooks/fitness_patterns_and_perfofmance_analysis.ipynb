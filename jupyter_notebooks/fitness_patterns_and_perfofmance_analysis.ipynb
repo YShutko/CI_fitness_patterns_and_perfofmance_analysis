{
  "cells": [
    {
      "cell_type": "markdown",
      "metadata": {
        "id": "0aStgWSO0E0E"
      },
      "source": [
        "# **Fitness patterns and perfofmance analysis**"
      ]
    },
    {
      "cell_type": "markdown",
      "metadata": {
        "id": "1eLEkw5O0ECa"
      },
      "source": [
        "## Objectives of the Project\n",
        "\n",
        "- Classify gym members into **fitness levels** (Low, Medium, High) based on their biometric and workout behavior.\n",
        "- Understand the **key drivers** of calorie burn and fitness level (e.g., BMI, heart rate, session duration).\n",
        "- Build a model that supports **personalized fitness guidance** and **member segmentation**.\n",
        "- Communicate insights visually for stakeholders using feature importance and performance metrics.\n",
        "\n",
        "## Inputs\n",
        "In this Notebook Explanotory Data Analysis (EDA) and Vizualisation Analysis are performed on the \"Gym Members Exercise Dataset\" data set [Kaggle](https://www.kaggle.com/datasets/valakhorasani/gym-members-exercise-dataset/data). \n",
        "Dataset cointains the following columns:\n",
        "* Age: Age of the gym member.\n",
        "* Gender: Gender of the gym member (Male or Female).\n",
        "* Weight (kg): Member’s weight in kilograms.\n",
        "* Height (m): Member’s height in meters.\n",
        "* Max_BPM: Maximum heart rate (beats per minute) during workout sessions.\n",
        "* Avg_BPM: Average heart rate during workout sessions.\n",
        "* Resting_BPM: Heart rate at rest before workout.\n",
        "* Session_Duration (hours): Duration of each workout session in hours.\n",
        "* Calories_Burned: Total calories burned during each session.\n",
        "* Workout_Type: Type of workout performed (e.g., Cardio, Strength, Yoga, HIIT).\n",
        "* Fat_Percentage: Body fat percentage of the member.\n",
        "* Water_Intake (liters): Daily water intake during workouts.\n",
        "* Workout_Frequency (days/week): Number of workout sessions per week.\n",
        "* Experience_Level: Level of experience, from beginner (1) to expert (3).\n",
        "* BMI: Body Mass Index, calculated from height and weight.\n",
        "\n",
        "## Outputs\n",
        "**FitnessLevel** (Target Variable):  \n",
        "  * `\"Low\"`: Low effort or irregular activity  \n",
        "  * `\"Medium\"`: Moderate consistency and calorie burn  \n",
        "  * `\"High\"`: High engagement and performance  \n",
        "\n",
        "**Exploratory Data Analysis (EDA)**:  \n",
        "  * Descriptive statistics  \n",
        "  * Correlation heatmaps  \n",
        "  * Pairplots  \n",
        "  * Fitness level distributions  \n",
        "  * Other performance-related insights via plots  \n",
        "\n",
        "**Machine Learning Model Output**:  \n",
        "  * Trained classification model predicting fitness level  \n",
        "  * Evaluation metrics: Accuracy, Classification Report, Confusion Matrix  \n",
        "  * Feature importance plot to highlight influential variables\n",
        "\n",
        "\n",
        "\n"
      ]
    },
    {
      "cell_type": "markdown",
      "metadata": {
        "id": "9uWZXH9LwoQg"
      },
      "source": [
        "---"
      ]
    },
    {
      "cell_type": "markdown",
      "metadata": {},
      "source": [
        "For this project different Python librarires are used for analysis and vizualisation. Libraries are imported prior furtherwork on the project."
      ]
    },
    {
      "cell_type": "code",
      "execution_count": 1,
      "metadata": {},
      "outputs": [],
      "source": [
        "import pandas as pd                 #import Pandas for data manipulation\n",
        "import numpy as np                  #import Numpy for numerical operations\n",
        "import matplotlib.pyplot as plt     #import Matplotlib for data visualization\n",
        "import seaborn as sns               #import Seaborn for statistical data visualization\n",
        "from plotly.subplots import make_subplots  #import Plotly subplots for creating complex figures\n",
        "import plotly.express as px         #import Plotly Express for interactive visualizations"
      ]
    },
    {
      "cell_type": "markdown",
      "metadata": {},
      "source": [
        "Stylw and plot size"
      ]
    },
    {
      "cell_type": "code",
      "execution_count": 2,
      "metadata": {},
      "outputs": [],
      "source": [
        "sns.set_style(\"whitegrid\")      #set Seaborn style to whitegrid for better aesthetics\n",
        "plt.rcParams['figure.figsize'] = (12, 6)    #set default figure size for Matplotlib plots"
      ]
    },
    {
      "cell_type": "markdown",
      "metadata": {
        "id": "-mavJ8DibrcQ"
      },
      "source": [
        "# 1. Explanotary Data Analysis"
      ]
    },
    {
      "cell_type": "markdown",
      "metadata": {},
      "source": [
        "##### In this section EDA, including data load and cleaning, is performed."
      ]
    },
    {
      "cell_type": "markdown",
      "metadata": {},
      "source": [
        "As a first step, \"gym_members_exercise_tracking.csv\" data set is loaded into DataFrame"
      ]
    },
    {
      "cell_type": "code",
      "execution_count": 4,
      "metadata": {},
      "outputs": [
        {
          "data": {
            "text/html": [
              "<div>\n",
              "<style scoped>\n",
              "    .dataframe tbody tr th:only-of-type {\n",
              "        vertical-align: middle;\n",
              "    }\n",
              "\n",
              "    .dataframe tbody tr th {\n",
              "        vertical-align: top;\n",
              "    }\n",
              "\n",
              "    .dataframe thead th {\n",
              "        text-align: right;\n",
              "    }\n",
              "</style>\n",
              "<table border=\"1\" class=\"dataframe\">\n",
              "  <thead>\n",
              "    <tr style=\"text-align: right;\">\n",
              "      <th></th>\n",
              "      <th>Age</th>\n",
              "      <th>Gender</th>\n",
              "      <th>Weight (kg)</th>\n",
              "      <th>Height (m)</th>\n",
              "      <th>Max_BPM</th>\n",
              "      <th>Avg_BPM</th>\n",
              "      <th>Resting_BPM</th>\n",
              "      <th>Session_Duration (hours)</th>\n",
              "      <th>Calories_Burned</th>\n",
              "      <th>Workout_Type</th>\n",
              "      <th>Fat_Percentage</th>\n",
              "      <th>Water_Intake (liters)</th>\n",
              "      <th>Workout_Frequency (days/week)</th>\n",
              "      <th>Experience_Level</th>\n",
              "      <th>BMI</th>\n",
              "    </tr>\n",
              "  </thead>\n",
              "  <tbody>\n",
              "    <tr>\n",
              "      <th>0</th>\n",
              "      <td>56</td>\n",
              "      <td>Male</td>\n",
              "      <td>88.3</td>\n",
              "      <td>1.71</td>\n",
              "      <td>180</td>\n",
              "      <td>157</td>\n",
              "      <td>60</td>\n",
              "      <td>1.69</td>\n",
              "      <td>1313.0</td>\n",
              "      <td>Yoga</td>\n",
              "      <td>12.6</td>\n",
              "      <td>3.5</td>\n",
              "      <td>4</td>\n",
              "      <td>3</td>\n",
              "      <td>30.20</td>\n",
              "    </tr>\n",
              "    <tr>\n",
              "      <th>1</th>\n",
              "      <td>46</td>\n",
              "      <td>Female</td>\n",
              "      <td>74.9</td>\n",
              "      <td>1.53</td>\n",
              "      <td>179</td>\n",
              "      <td>151</td>\n",
              "      <td>66</td>\n",
              "      <td>1.30</td>\n",
              "      <td>883.0</td>\n",
              "      <td>HIIT</td>\n",
              "      <td>33.9</td>\n",
              "      <td>2.1</td>\n",
              "      <td>4</td>\n",
              "      <td>2</td>\n",
              "      <td>32.00</td>\n",
              "    </tr>\n",
              "    <tr>\n",
              "      <th>2</th>\n",
              "      <td>32</td>\n",
              "      <td>Female</td>\n",
              "      <td>68.1</td>\n",
              "      <td>1.66</td>\n",
              "      <td>167</td>\n",
              "      <td>122</td>\n",
              "      <td>54</td>\n",
              "      <td>1.11</td>\n",
              "      <td>677.0</td>\n",
              "      <td>Cardio</td>\n",
              "      <td>33.4</td>\n",
              "      <td>2.3</td>\n",
              "      <td>4</td>\n",
              "      <td>2</td>\n",
              "      <td>24.71</td>\n",
              "    </tr>\n",
              "    <tr>\n",
              "      <th>3</th>\n",
              "      <td>25</td>\n",
              "      <td>Male</td>\n",
              "      <td>53.2</td>\n",
              "      <td>1.70</td>\n",
              "      <td>190</td>\n",
              "      <td>164</td>\n",
              "      <td>56</td>\n",
              "      <td>0.59</td>\n",
              "      <td>532.0</td>\n",
              "      <td>Strength</td>\n",
              "      <td>28.8</td>\n",
              "      <td>2.1</td>\n",
              "      <td>3</td>\n",
              "      <td>1</td>\n",
              "      <td>18.41</td>\n",
              "    </tr>\n",
              "    <tr>\n",
              "      <th>4</th>\n",
              "      <td>38</td>\n",
              "      <td>Male</td>\n",
              "      <td>46.1</td>\n",
              "      <td>1.79</td>\n",
              "      <td>188</td>\n",
              "      <td>158</td>\n",
              "      <td>68</td>\n",
              "      <td>0.64</td>\n",
              "      <td>556.0</td>\n",
              "      <td>Strength</td>\n",
              "      <td>29.2</td>\n",
              "      <td>2.8</td>\n",
              "      <td>3</td>\n",
              "      <td>1</td>\n",
              "      <td>14.39</td>\n",
              "    </tr>\n",
              "  </tbody>\n",
              "</table>\n",
              "</div>"
            ],
            "text/plain": [
              "   Age  Gender  Weight (kg)  Height (m)  Max_BPM  Avg_BPM  Resting_BPM  \\\n",
              "0   56    Male         88.3        1.71      180      157           60   \n",
              "1   46  Female         74.9        1.53      179      151           66   \n",
              "2   32  Female         68.1        1.66      167      122           54   \n",
              "3   25    Male         53.2        1.70      190      164           56   \n",
              "4   38    Male         46.1        1.79      188      158           68   \n",
              "\n",
              "   Session_Duration (hours)  Calories_Burned Workout_Type  Fat_Percentage  \\\n",
              "0                      1.69           1313.0         Yoga            12.6   \n",
              "1                      1.30            883.0         HIIT            33.9   \n",
              "2                      1.11            677.0       Cardio            33.4   \n",
              "3                      0.59            532.0     Strength            28.8   \n",
              "4                      0.64            556.0     Strength            29.2   \n",
              "\n",
              "   Water_Intake (liters)  Workout_Frequency (days/week)  Experience_Level  \\\n",
              "0                    3.5                              4                 3   \n",
              "1                    2.1                              4                 2   \n",
              "2                    2.3                              4                 2   \n",
              "3                    2.1                              3                 1   \n",
              "4                    2.8                              3                 1   \n",
              "\n",
              "     BMI  \n",
              "0  30.20  \n",
              "1  32.00  \n",
              "2  24.71  \n",
              "3  18.41  \n",
              "4  14.39  "
            ]
          },
          "execution_count": 4,
          "metadata": {},
          "output_type": "execute_result"
        }
      ],
      "source": [
        "df = pd.read_csv('../Data/gym_members_exercise_tracking.csv')  # Load the car price dataset\n",
        "df.head()                                            # Display the first few rows of the dataset"
      ]
    },
    {
      "cell_type": "markdown",
      "metadata": {
        "id": "ZY3l0-AxO93d"
      },
      "source": [
        "---"
      ]
    },
    {
      "cell_type": "markdown",
      "metadata": {
        "id": "uFQo3ycuO-v6"
      },
      "source": [
        "# Section 2"
      ]
    },
    {
      "cell_type": "markdown",
      "metadata": {},
      "source": [
        "Section 2 content"
      ]
    },
    {
      "cell_type": "code",
      "execution_count": null,
      "metadata": {},
      "outputs": [],
      "source": []
    },
    {
      "cell_type": "markdown",
      "metadata": {},
      "source": [
        "---"
      ]
    },
    {
      "cell_type": "markdown",
      "metadata": {},
      "source": [
        "NOTE"
      ]
    },
    {
      "cell_type": "markdown",
      "metadata": {},
      "source": [
        "* You may add as many sections as you want, as long as it supports your project workflow.\n",
        "* All notebook's cells should be run top-down (you can't create a dynamic wherein a given point you need to go back to a previous cell to execute some task, like go back to a previous cell and refresh a variable content)"
      ]
    },
    {
      "cell_type": "markdown",
      "metadata": {},
      "source": [
        "---"
      ]
    },
    {
      "cell_type": "markdown",
      "metadata": {
        "id": "ltNetd085qHf"
      },
      "source": [
        "# Push files to Repo"
      ]
    },
    {
      "cell_type": "markdown",
      "metadata": {},
      "source": [
        "* In cases where you don't need to push files to Repo, you may replace this section with \"Conclusions and Next Steps\" and state your conclusions and next steps."
      ]
    },
    {
      "cell_type": "code",
      "execution_count": null,
      "metadata": {
        "id": "aKlnIozA4eQO",
        "outputId": "fd09bc1f-adb1-4511-f6ce-492a6af570c0"
      },
      "outputs": [],
      "source": [
        "import os\n",
        "try:\n",
        "  # create your folder here\n",
        "  # os.makedirs(name='')\n",
        "except Exception as e:\n",
        "  print(e)\n"
      ]
    }
  ],
  "metadata": {
    "accelerator": "GPU",
    "colab": {
      "name": "Data Practitioner Jupyter Notebook.ipynb",
      "provenance": [],
      "toc_visible": true
    },
    "kernelspec": {
      "display_name": "Python 3",
      "language": "python",
      "name": "python3"
    },
    "language_info": {
      "codemirror_mode": {
        "name": "ipython",
        "version": 3
      },
      "file_extension": ".py",
      "mimetype": "text/x-python",
      "name": "python",
      "nbconvert_exporter": "python",
      "pygments_lexer": "ipython3",
      "version": "3.13.5"
    },
    "orig_nbformat": 2
  },
  "nbformat": 4,
  "nbformat_minor": 2
}
