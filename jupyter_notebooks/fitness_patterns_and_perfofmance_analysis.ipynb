{
  "cells": [
    {
      "cell_type": "markdown",
      "metadata": {
        "id": "0aStgWSO0E0E"
      },
      "source": [
        "# **Fitness patterns and perfofmance analysis**"
      ]
    },
    {
      "cell_type": "markdown",
      "metadata": {
        "id": "1eLEkw5O0ECa"
      },
      "source": [
        "## Objectives of the Project\n",
        "\n",
        "- Classify gym members into **fitness levels** (Low, Medium, High) based on their biometric and workout behavior.\n",
        "- Understand the **key drivers** of calorie burn and fitness level (e.g., BMI, heart rate, session duration).\n",
        "- Build a model that supports **personalized fitness guidance** and **member segmentation**.\n",
        "- Communicate insights visually for stakeholders using feature importance and performance metrics.\n",
        "\n",
        "## Inputs\n",
        "In this Notebook Explanotory Data Analysis (EDA) and Vizualisation Analysis are performed on the \"Gym Members Exercise Dataset\" data set [Kaggle](https://www.kaggle.com/datasets/valakhorasani/gym-members-exercise-dataset/data). \n",
        "Dataset cointains the following columns:\n",
        "* Age: Age of the gym member.\n",
        "* Gender: Gender of the gym member (Male or Female).\n",
        "* Weight (kg): Member’s weight in kilograms.\n",
        "* Height (m): Member’s height in meters.\n",
        "* Max_BPM: Maximum heart rate (beats per minute) during workout sessions.\n",
        "* Avg_BPM: Average heart rate during workout sessions.\n",
        "* Resting_BPM: Heart rate at rest before workout.\n",
        "* Session_Duration (hours): Duration of each workout session in hours.\n",
        "* Calories_Burned: Total calories burned during each session.\n",
        "* Workout_Type: Type of workout performed (e.g., Cardio, Strength, Yoga, HIIT).\n",
        "* Fat_Percentage: Body fat percentage of the member.\n",
        "* Water_Intake (liters): Daily water intake during workouts.\n",
        "* Workout_Frequency (days/week): Number of workout sessions per week.\n",
        "* Experience_Level: Level of experience, from beginner (1) to expert (3).\n",
        "* BMI: Body Mass Index, calculated from height and weight.\n",
        "\n",
        "## Outputs\n",
        "**FitnessLevel** (Target Variable):  \n",
        "  * `\"Low\"`: Low effort or irregular activity  \n",
        "  * `\"Medium\"`: Moderate consistency and calorie burn  \n",
        "  * `\"High\"`: High engagement and performance  \n",
        "\n",
        "**Exploratory Data Analysis (EDA)**:  \n",
        "  * Descriptive statistics  \n",
        "  * Correlation heatmaps  \n",
        "  * Pairplots  \n",
        "  * Fitness level distributions  \n",
        "  * Other performance-related insights via plots  \n",
        "\n",
        "**Machine Learning Model Output**:  \n",
        "  * Trained classification model predicting fitness level  \n",
        "  * Evaluation metrics: Accuracy, Classification Report, Confusion Matrix  \n",
        "  * Feature importance plot to highlight influential variables\n",
        "\n",
        "\n",
        "\n"
      ]
    },
    {
      "cell_type": "markdown",
      "metadata": {
        "id": "9uWZXH9LwoQg"
      },
      "source": [
        "---"
      ]
    },
    {
      "cell_type": "markdown",
      "metadata": {},
      "source": [
        "For this project different Python librarires are used for analysis and vizualisation. Libraries are imported prior furtherwork on the project."
      ]
    },
    {
      "cell_type": "code",
      "execution_count": 41,
      "metadata": {},
      "outputs": [],
      "source": [
        "import pandas as pd                 #import Pandas for data manipulation\n",
        "import numpy as np                  #import Numpy for numerical operations\n",
        "import matplotlib.pyplot as plt     #import Matplotlib for data visualization\n",
        "import seaborn as sns               #import Seaborn for statistical data visualization\n",
        "from plotly.subplots import make_subplots  #import Plotly subplots for creating complex figures\n",
        "import plotly.express as px         #import Plotly Express for interactive visualizations\n",
        "from sklearn.model_selection import train_test_split                   #import train_test_split for splitting data into training and testing sets\n",
        "from sklearn.preprocessing import LabelEncoder, StandardScaler         #import LabelEncoder and StandardScaler for data preprocessing\n",
        "from sklearn.ensemble import RandomForestClassifier                    #import RandomForestClassifier for classification tasks\n",
        "from sklearn.metrics import classification_report, confusion_matrix    #import metrics for model evaluation"
      ]
    },
    {
      "cell_type": "markdown",
      "metadata": {},
      "source": [
        "Stylw and plot size"
      ]
    },
    {
      "cell_type": "code",
      "execution_count": 42,
      "metadata": {},
      "outputs": [],
      "source": [
        "sns.set_style(\"whitegrid\")      #set Seaborn style to whitegrid for better aesthetics\n",
        "plt.rcParams['figure.figsize'] = (12, 6)    #set default figure size for Matplotlib plots"
      ]
    },
    {
      "cell_type": "markdown",
      "metadata": {
        "id": "-mavJ8DibrcQ"
      },
      "source": [
        "# 1. Explanotary Data Analysis"
      ]
    },
    {
      "cell_type": "markdown",
      "metadata": {},
      "source": [
        "##### In this section EDA, including data load and cleaning, is performed."
      ]
    },
    {
      "cell_type": "markdown",
      "metadata": {},
      "source": [
        "As a first step, \"gym_members_exercise_tracking.csv\" data set is loaded into DataFrame"
      ]
    },
    {
      "cell_type": "code",
      "execution_count": null,
      "metadata": {},
      "outputs": [
        {
          "data": {
            "text/html": [
              "<div>\n",
              "<style scoped>\n",
              "    .dataframe tbody tr th:only-of-type {\n",
              "        vertical-align: middle;\n",
              "    }\n",
              "\n",
              "    .dataframe tbody tr th {\n",
              "        vertical-align: top;\n",
              "    }\n",
              "\n",
              "    .dataframe thead th {\n",
              "        text-align: right;\n",
              "    }\n",
              "</style>\n",
              "<table border=\"1\" class=\"dataframe\">\n",
              "  <thead>\n",
              "    <tr style=\"text-align: right;\">\n",
              "      <th></th>\n",
              "      <th>Age</th>\n",
              "      <th>Gender</th>\n",
              "      <th>Weight (kg)</th>\n",
              "      <th>Height (m)</th>\n",
              "      <th>Max_BPM</th>\n",
              "      <th>Avg_BPM</th>\n",
              "      <th>Resting_BPM</th>\n",
              "      <th>Session_Duration (hours)</th>\n",
              "      <th>Calories_Burned</th>\n",
              "      <th>Workout_Type</th>\n",
              "      <th>Fat_Percentage</th>\n",
              "      <th>Water_Intake (liters)</th>\n",
              "      <th>Workout_Frequency (days/week)</th>\n",
              "      <th>Experience_Level</th>\n",
              "      <th>BMI</th>\n",
              "    </tr>\n",
              "  </thead>\n",
              "  <tbody>\n",
              "    <tr>\n",
              "      <th>0</th>\n",
              "      <td>56</td>\n",
              "      <td>Male</td>\n",
              "      <td>88.3</td>\n",
              "      <td>1.71</td>\n",
              "      <td>180</td>\n",
              "      <td>157</td>\n",
              "      <td>60</td>\n",
              "      <td>1.69</td>\n",
              "      <td>1313.0</td>\n",
              "      <td>Yoga</td>\n",
              "      <td>12.6</td>\n",
              "      <td>3.5</td>\n",
              "      <td>4</td>\n",
              "      <td>3</td>\n",
              "      <td>30.20</td>\n",
              "    </tr>\n",
              "    <tr>\n",
              "      <th>1</th>\n",
              "      <td>46</td>\n",
              "      <td>Female</td>\n",
              "      <td>74.9</td>\n",
              "      <td>1.53</td>\n",
              "      <td>179</td>\n",
              "      <td>151</td>\n",
              "      <td>66</td>\n",
              "      <td>1.30</td>\n",
              "      <td>883.0</td>\n",
              "      <td>HIIT</td>\n",
              "      <td>33.9</td>\n",
              "      <td>2.1</td>\n",
              "      <td>4</td>\n",
              "      <td>2</td>\n",
              "      <td>32.00</td>\n",
              "    </tr>\n",
              "    <tr>\n",
              "      <th>2</th>\n",
              "      <td>32</td>\n",
              "      <td>Female</td>\n",
              "      <td>68.1</td>\n",
              "      <td>1.66</td>\n",
              "      <td>167</td>\n",
              "      <td>122</td>\n",
              "      <td>54</td>\n",
              "      <td>1.11</td>\n",
              "      <td>677.0</td>\n",
              "      <td>Cardio</td>\n",
              "      <td>33.4</td>\n",
              "      <td>2.3</td>\n",
              "      <td>4</td>\n",
              "      <td>2</td>\n",
              "      <td>24.71</td>\n",
              "    </tr>\n",
              "    <tr>\n",
              "      <th>3</th>\n",
              "      <td>25</td>\n",
              "      <td>Male</td>\n",
              "      <td>53.2</td>\n",
              "      <td>1.70</td>\n",
              "      <td>190</td>\n",
              "      <td>164</td>\n",
              "      <td>56</td>\n",
              "      <td>0.59</td>\n",
              "      <td>532.0</td>\n",
              "      <td>Strength</td>\n",
              "      <td>28.8</td>\n",
              "      <td>2.1</td>\n",
              "      <td>3</td>\n",
              "      <td>1</td>\n",
              "      <td>18.41</td>\n",
              "    </tr>\n",
              "    <tr>\n",
              "      <th>4</th>\n",
              "      <td>38</td>\n",
              "      <td>Male</td>\n",
              "      <td>46.1</td>\n",
              "      <td>1.79</td>\n",
              "      <td>188</td>\n",
              "      <td>158</td>\n",
              "      <td>68</td>\n",
              "      <td>0.64</td>\n",
              "      <td>556.0</td>\n",
              "      <td>Strength</td>\n",
              "      <td>29.2</td>\n",
              "      <td>2.8</td>\n",
              "      <td>3</td>\n",
              "      <td>1</td>\n",
              "      <td>14.39</td>\n",
              "    </tr>\n",
              "  </tbody>\n",
              "</table>\n",
              "</div>"
            ],
            "text/plain": [
              "   Age  Gender  Weight (kg)  Height (m)  Max_BPM  Avg_BPM  Resting_BPM  \\\n",
              "0   56    Male         88.3        1.71      180      157           60   \n",
              "1   46  Female         74.9        1.53      179      151           66   \n",
              "2   32  Female         68.1        1.66      167      122           54   \n",
              "3   25    Male         53.2        1.70      190      164           56   \n",
              "4   38    Male         46.1        1.79      188      158           68   \n",
              "\n",
              "   Session_Duration (hours)  Calories_Burned Workout_Type  Fat_Percentage  \\\n",
              "0                      1.69           1313.0         Yoga            12.6   \n",
              "1                      1.30            883.0         HIIT            33.9   \n",
              "2                      1.11            677.0       Cardio            33.4   \n",
              "3                      0.59            532.0     Strength            28.8   \n",
              "4                      0.64            556.0     Strength            29.2   \n",
              "\n",
              "   Water_Intake (liters)  Workout_Frequency (days/week)  Experience_Level  \\\n",
              "0                    3.5                              4                 3   \n",
              "1                    2.1                              4                 2   \n",
              "2                    2.3                              4                 2   \n",
              "3                    2.1                              3                 1   \n",
              "4                    2.8                              3                 1   \n",
              "\n",
              "     BMI  \n",
              "0  30.20  \n",
              "1  32.00  \n",
              "2  24.71  \n",
              "3  18.41  \n",
              "4  14.39  "
            ]
          },
          "execution_count": 43,
          "metadata": {},
          "output_type": "execute_result"
        }
      ],
      "source": [
        "df = pd.read_csv('../data/gym_members_exercise_tracking.csv')  # Load the car price dataset\n",
        "df.head()                                            # Display the first few rows of the dataset"
      ]
    },
    {
      "cell_type": "markdown",
      "metadata": {},
      "source": [
        "Here the shape, Info and column types of the Dataset are shown"
      ]
    },
    {
      "cell_type": "code",
      "execution_count": 44,
      "metadata": {},
      "outputs": [
        {
          "name": "stdout",
          "output_type": "stream",
          "text": [
            "(973, 15)\n",
            "<class 'pandas.core.frame.DataFrame'>\n",
            "RangeIndex: 973 entries, 0 to 972\n",
            "Data columns (total 15 columns):\n",
            " #   Column                         Non-Null Count  Dtype  \n",
            "---  ------                         --------------  -----  \n",
            " 0   Age                            973 non-null    int64  \n",
            " 1   Gender                         973 non-null    object \n",
            " 2   Weight (kg)                    973 non-null    float64\n",
            " 3   Height (m)                     973 non-null    float64\n",
            " 4   Max_BPM                        973 non-null    int64  \n",
            " 5   Avg_BPM                        973 non-null    int64  \n",
            " 6   Resting_BPM                    973 non-null    int64  \n",
            " 7   Session_Duration (hours)       973 non-null    float64\n",
            " 8   Calories_Burned                973 non-null    float64\n",
            " 9   Workout_Type                   973 non-null    object \n",
            " 10  Fat_Percentage                 973 non-null    float64\n",
            " 11  Water_Intake (liters)          973 non-null    float64\n",
            " 12  Workout_Frequency (days/week)  973 non-null    int64  \n",
            " 13  Experience_Level               973 non-null    int64  \n",
            " 14  BMI                            973 non-null    float64\n",
            "dtypes: float64(7), int64(6), object(2)\n",
            "memory usage: 114.2+ KB\n",
            "None\n",
            "Age                                int64\n",
            "Gender                            object\n",
            "Weight (kg)                      float64\n",
            "Height (m)                       float64\n",
            "Max_BPM                            int64\n",
            "Avg_BPM                            int64\n",
            "Resting_BPM                        int64\n",
            "Session_Duration (hours)         float64\n",
            "Calories_Burned                  float64\n",
            "Workout_Type                      object\n",
            "Fat_Percentage                   float64\n",
            "Water_Intake (liters)            float64\n",
            "Workout_Frequency (days/week)      int64\n",
            "Experience_Level                   int64\n",
            "BMI                              float64\n",
            "dtype: object\n"
          ]
        }
      ],
      "source": [
        "print(df.shape)                     # Print the shape of the DataFrame           \n",
        "print(df.info())                    # Print concise summary of the DataFrame            \n",
        "print(df.dtypes)                    # Print data types of each column"
      ]
    },
    {
      "cell_type": "markdown",
      "metadata": {},
      "source": [
        "As it shown, gym_members_exercise_tracking.csv (further df) consists of 973 etries in 15 columns with following types:\n",
        "* float64 - 7\n",
        "* Int64 - 6\n",
        "* object - 2"
      ]
    },
    {
      "cell_type": "markdown",
      "metadata": {},
      "source": [
        "In the next steps df is checked for any inconsistencies (duplicates, missing values and etc.)"
      ]
    },
    {
      "cell_type": "code",
      "execution_count": 45,
      "metadata": {},
      "outputs": [
        {
          "data": {
            "text/plain": [
              "Age                              0\n",
              "Gender                           0\n",
              "Weight (kg)                      0\n",
              "Height (m)                       0\n",
              "Max_BPM                          0\n",
              "Avg_BPM                          0\n",
              "Resting_BPM                      0\n",
              "Session_Duration (hours)         0\n",
              "Calories_Burned                  0\n",
              "Workout_Type                     0\n",
              "Fat_Percentage                   0\n",
              "Water_Intake (liters)            0\n",
              "Workout_Frequency (days/week)    0\n",
              "Experience_Level                 0\n",
              "BMI                              0\n",
              "dtype: int64"
            ]
          },
          "execution_count": 45,
          "metadata": {},
          "output_type": "execute_result"
        }
      ],
      "source": [
        "df.isnull().sum()                 # Check for missing values in each column"
      ]
    },
    {
      "cell_type": "markdown",
      "metadata": {},
      "source": [
        "as it shown above the df has no missing values. Let's check for duplicates:"
      ]
    },
    {
      "cell_type": "code",
      "execution_count": 46,
      "metadata": {},
      "outputs": [
        {
          "data": {
            "text/plain": [
              "0      False\n",
              "1      False\n",
              "2      False\n",
              "3      False\n",
              "4      False\n",
              "       ...  \n",
              "968    False\n",
              "969    False\n",
              "970    False\n",
              "971    False\n",
              "972    False\n",
              "Length: 973, dtype: bool"
            ]
          },
          "execution_count": 46,
          "metadata": {},
          "output_type": "execute_result"
        }
      ],
      "source": [
        "df.duplicated() # Check for duplicate rows in the DataFrame\n"
      ]
    },
    {
      "cell_type": "markdown",
      "metadata": {},
      "source": [
        "And there are no duplicates. Initial data inspection shows that df has no missing values and duplicates, which simplifies further work with the dataset."
      ]
    },
    {
      "cell_type": "markdown",
      "metadata": {},
      "source": [
        "Fetching all columns names"
      ]
    },
    {
      "cell_type": "code",
      "execution_count": 47,
      "metadata": {},
      "outputs": [
        {
          "data": {
            "text/plain": [
              "Index(['Age', 'Gender', 'Weight (kg)', 'Height (m)', 'Max_BPM', 'Avg_BPM',\n",
              "       'Resting_BPM', 'Session_Duration (hours)', 'Calories_Burned',\n",
              "       'Workout_Type', 'Fat_Percentage', 'Water_Intake (liters)',\n",
              "       'Workout_Frequency (days/week)', 'Experience_Level', 'BMI'],\n",
              "      dtype='object')"
            ]
          },
          "execution_count": 47,
          "metadata": {},
          "output_type": "execute_result"
        }
      ],
      "source": [
        "df.columns          # Display the column names of the DataFrame"
      ]
    },
    {
      "cell_type": "markdown",
      "metadata": {},
      "source": [
        " As it is well known, BMI(Body Mass Index) is calculated as: Weight(kg)/(Height(m)**2). For further analysis columns \"Weight(kg)\" and \"Height(m)\" can be dropped, because dataset already contains more informative column \"BMI\"."
      ]
    },
    {
      "cell_type": "code",
      "execution_count": 48,
      "metadata": {},
      "outputs": [],
      "source": [
        "df.drop(columns=['Weight (kg)', 'Height (m)'], inplace=True)  # Drop 'Weight(kg)' and 'Height(m)' columns as BMI is already present"
      ]
    },
    {
      "cell_type": "markdown",
      "metadata": {},
      "source": [
        "Let's check wich unique names have object columns \"Gender\" and \"Workout_Type\""
      ]
    },
    {
      "cell_type": "code",
      "execution_count": 49,
      "metadata": {},
      "outputs": [
        {
          "name": "stdout",
          "output_type": "stream",
          "text": [
            "['Male' 'Female']\n",
            "['Yoga' 'HIIT' 'Cardio' 'Strength']\n"
          ]
        }
      ],
      "source": [
        "print(df[\"Gender\"].unique())# Check unique values in \"Gender\" column\n",
        "print(df[\"Workout_Type\"].unique()) # Check unique values in \"Workout_Type\" column"
      ]
    },
    {
      "cell_type": "markdown",
      "metadata": {},
      "source": [
        "For further visualizations and classification it is necessary to create new variable \"Fitness_Level\" based on how much person burns calories during trainings. More calories burned, higher fitness level person has."
      ]
    },
    {
      "cell_type": "code",
      "execution_count": 50,
      "metadata": {},
      "outputs": [],
      "source": [
        "# Create fitness classification based on calories burned\n",
        "def classify_fitness(calories):\n",
        "    if calories < 300:\n",
        "        return \"Low\"\n",
        "    elif calories < 600:\n",
        "        return \"Medium\"\n",
        "    else:\n",
        "        return \"High\"\n",
        "\n",
        "df[\"Fitness_Level\"] = df[\"Calories_Burned\"].apply(classify_fitness)  # Apply the classification function to create a new column"
      ]
    },
    {
      "cell_type": "markdown",
      "metadata": {},
      "source": [
        "Below counts of each unique category names of the \"Fitness_Level\" column are displayed"
      ]
    },
    {
      "cell_type": "code",
      "execution_count": 51,
      "metadata": {},
      "outputs": [
        {
          "name": "stdout",
          "output_type": "stream",
          "text": [
            "['High' 'Medium']\n",
            "Fitness_Level\n",
            "High      841\n",
            "Medium    132\n",
            "Name: count, dtype: int64\n"
          ]
        }
      ],
      "source": [
        "print(df[\"Fitness_Level\"].unique())# Display the unique names of each fitness level category\n",
        "print(df[\"Fitness_Level\"].value_counts()) # Display the counts of each fitness level category "
      ]
    },
    {
      "cell_type": "markdown",
      "metadata": {},
      "source": [
        "As it shown below, \"Fitness_Level\" contains only 2 unique categories: \"High\" and \"Medium\", 841 and 132 counts, respectively, which corresponds to amount of entries of the dataset"
      ]
    },
    {
      "cell_type": "markdown",
      "metadata": {},
      "source": [
        "`For a Data Visualization part of the project, it is not necessary to encode categorical variables, namely \"Gender\" and \"Workout_Type\". For simplicity, it will be done directly in Maschine Learning Model part.`"
      ]
    },
    {
      "cell_type": "markdown",
      "metadata": {},
      "source": [
        "Next step is to take a look on a descriptive statistic summary for each column in the df. This summary includes following metrics:\n",
        "* count: Number of non-missing (non-NaN) values. Helps check missing data.\n",
        "* mean:\tAverage (sum / count). Central tendency of numeric data.\n",
        "* std: Standard deviation. How spread out the values are from the mean.\n",
        "* min: Minimum value. The smallest observed value.\n",
        "* 25%: 25th percentile (Q1). 25% of data is below this value\n",
        "* 50% (median): 50th percentile. Half the data is below this value.\n",
        "* 75%: 75th percentile (Q3). 75% of data is below this value\n",
        "* max: Maximum value. The largest observed value"
      ]
    },
    {
      "cell_type": "markdown",
      "metadata": {},
      "source": [
        "In following cell a descriptive statistics of numeric columns is performed:"
      ]
    },
    {
      "cell_type": "code",
      "execution_count": 52,
      "metadata": {},
      "outputs": [
        {
          "data": {
            "text/html": [
              "<div>\n",
              "<style scoped>\n",
              "    .dataframe tbody tr th:only-of-type {\n",
              "        vertical-align: middle;\n",
              "    }\n",
              "\n",
              "    .dataframe tbody tr th {\n",
              "        vertical-align: top;\n",
              "    }\n",
              "\n",
              "    .dataframe thead th {\n",
              "        text-align: right;\n",
              "    }\n",
              "</style>\n",
              "<table border=\"1\" class=\"dataframe\">\n",
              "  <thead>\n",
              "    <tr style=\"text-align: right;\">\n",
              "      <th></th>\n",
              "      <th>Age</th>\n",
              "      <th>Max_BPM</th>\n",
              "      <th>Avg_BPM</th>\n",
              "      <th>Resting_BPM</th>\n",
              "      <th>Session_Duration (hours)</th>\n",
              "      <th>Calories_Burned</th>\n",
              "      <th>Fat_Percentage</th>\n",
              "      <th>Water_Intake (liters)</th>\n",
              "      <th>Workout_Frequency (days/week)</th>\n",
              "      <th>Experience_Level</th>\n",
              "      <th>BMI</th>\n",
              "    </tr>\n",
              "  </thead>\n",
              "  <tbody>\n",
              "    <tr>\n",
              "      <th>count</th>\n",
              "      <td>973.000000</td>\n",
              "      <td>973.000000</td>\n",
              "      <td>973.000000</td>\n",
              "      <td>973.000000</td>\n",
              "      <td>973.000000</td>\n",
              "      <td>973.000000</td>\n",
              "      <td>973.000000</td>\n",
              "      <td>973.000000</td>\n",
              "      <td>973.000000</td>\n",
              "      <td>973.000000</td>\n",
              "      <td>973.000000</td>\n",
              "    </tr>\n",
              "    <tr>\n",
              "      <th>mean</th>\n",
              "      <td>38.683453</td>\n",
              "      <td>179.883864</td>\n",
              "      <td>143.766701</td>\n",
              "      <td>62.223022</td>\n",
              "      <td>1.256423</td>\n",
              "      <td>905.422405</td>\n",
              "      <td>24.976773</td>\n",
              "      <td>2.626619</td>\n",
              "      <td>3.321686</td>\n",
              "      <td>1.809866</td>\n",
              "      <td>24.912127</td>\n",
              "    </tr>\n",
              "    <tr>\n",
              "      <th>std</th>\n",
              "      <td>12.180928</td>\n",
              "      <td>11.525686</td>\n",
              "      <td>14.345101</td>\n",
              "      <td>7.327060</td>\n",
              "      <td>0.343033</td>\n",
              "      <td>272.641516</td>\n",
              "      <td>6.259419</td>\n",
              "      <td>0.600172</td>\n",
              "      <td>0.913047</td>\n",
              "      <td>0.739693</td>\n",
              "      <td>6.660879</td>\n",
              "    </tr>\n",
              "    <tr>\n",
              "      <th>min</th>\n",
              "      <td>18.000000</td>\n",
              "      <td>160.000000</td>\n",
              "      <td>120.000000</td>\n",
              "      <td>50.000000</td>\n",
              "      <td>0.500000</td>\n",
              "      <td>303.000000</td>\n",
              "      <td>10.000000</td>\n",
              "      <td>1.500000</td>\n",
              "      <td>2.000000</td>\n",
              "      <td>1.000000</td>\n",
              "      <td>12.320000</td>\n",
              "    </tr>\n",
              "    <tr>\n",
              "      <th>25%</th>\n",
              "      <td>28.000000</td>\n",
              "      <td>170.000000</td>\n",
              "      <td>131.000000</td>\n",
              "      <td>56.000000</td>\n",
              "      <td>1.040000</td>\n",
              "      <td>720.000000</td>\n",
              "      <td>21.300000</td>\n",
              "      <td>2.200000</td>\n",
              "      <td>3.000000</td>\n",
              "      <td>1.000000</td>\n",
              "      <td>20.110000</td>\n",
              "    </tr>\n",
              "    <tr>\n",
              "      <th>50%</th>\n",
              "      <td>40.000000</td>\n",
              "      <td>180.000000</td>\n",
              "      <td>143.000000</td>\n",
              "      <td>62.000000</td>\n",
              "      <td>1.260000</td>\n",
              "      <td>893.000000</td>\n",
              "      <td>26.200000</td>\n",
              "      <td>2.600000</td>\n",
              "      <td>3.000000</td>\n",
              "      <td>2.000000</td>\n",
              "      <td>24.160000</td>\n",
              "    </tr>\n",
              "    <tr>\n",
              "      <th>75%</th>\n",
              "      <td>49.000000</td>\n",
              "      <td>190.000000</td>\n",
              "      <td>156.000000</td>\n",
              "      <td>68.000000</td>\n",
              "      <td>1.460000</td>\n",
              "      <td>1076.000000</td>\n",
              "      <td>29.300000</td>\n",
              "      <td>3.100000</td>\n",
              "      <td>4.000000</td>\n",
              "      <td>2.000000</td>\n",
              "      <td>28.560000</td>\n",
              "    </tr>\n",
              "    <tr>\n",
              "      <th>max</th>\n",
              "      <td>59.000000</td>\n",
              "      <td>199.000000</td>\n",
              "      <td>169.000000</td>\n",
              "      <td>74.000000</td>\n",
              "      <td>2.000000</td>\n",
              "      <td>1783.000000</td>\n",
              "      <td>35.000000</td>\n",
              "      <td>3.700000</td>\n",
              "      <td>5.000000</td>\n",
              "      <td>3.000000</td>\n",
              "      <td>49.840000</td>\n",
              "    </tr>\n",
              "  </tbody>\n",
              "</table>\n",
              "</div>"
            ],
            "text/plain": [
              "              Age     Max_BPM     Avg_BPM  Resting_BPM  \\\n",
              "count  973.000000  973.000000  973.000000   973.000000   \n",
              "mean    38.683453  179.883864  143.766701    62.223022   \n",
              "std     12.180928   11.525686   14.345101     7.327060   \n",
              "min     18.000000  160.000000  120.000000    50.000000   \n",
              "25%     28.000000  170.000000  131.000000    56.000000   \n",
              "50%     40.000000  180.000000  143.000000    62.000000   \n",
              "75%     49.000000  190.000000  156.000000    68.000000   \n",
              "max     59.000000  199.000000  169.000000    74.000000   \n",
              "\n",
              "       Session_Duration (hours)  Calories_Burned  Fat_Percentage  \\\n",
              "count                973.000000       973.000000      973.000000   \n",
              "mean                   1.256423       905.422405       24.976773   \n",
              "std                    0.343033       272.641516        6.259419   \n",
              "min                    0.500000       303.000000       10.000000   \n",
              "25%                    1.040000       720.000000       21.300000   \n",
              "50%                    1.260000       893.000000       26.200000   \n",
              "75%                    1.460000      1076.000000       29.300000   \n",
              "max                    2.000000      1783.000000       35.000000   \n",
              "\n",
              "       Water_Intake (liters)  Workout_Frequency (days/week)  Experience_Level  \\\n",
              "count             973.000000                     973.000000        973.000000   \n",
              "mean                2.626619                       3.321686          1.809866   \n",
              "std                 0.600172                       0.913047          0.739693   \n",
              "min                 1.500000                       2.000000          1.000000   \n",
              "25%                 2.200000                       3.000000          1.000000   \n",
              "50%                 2.600000                       3.000000          2.000000   \n",
              "75%                 3.100000                       4.000000          2.000000   \n",
              "max                 3.700000                       5.000000          3.000000   \n",
              "\n",
              "              BMI  \n",
              "count  973.000000  \n",
              "mean    24.912127  \n",
              "std      6.660879  \n",
              "min     12.320000  \n",
              "25%     20.110000  \n",
              "50%     24.160000  \n",
              "75%     28.560000  \n",
              "max     49.840000  "
            ]
          },
          "execution_count": 52,
          "metadata": {},
          "output_type": "execute_result"
        }
      ],
      "source": [
        "df.describe() # Generate descriptive statistics of numerical columns"
      ]
    },
    {
      "cell_type": "markdown",
      "metadata": {},
      "source": [
        "Key Insights:\n",
        "* Age:\n",
        "    * Members range from 18 to 59 years old.\n",
        "    * Median age is 40, with most users between 28 and 49 – indicating a predominantly adult fitness population. \n",
        "* Heart Rate Data (BPM):\n",
        "    * Max_BPM ranges from 160 to 199 bpm.\n",
        "    * Avg_BPM ~144, Resting_BPM ~62.\n",
        "    * Most users fall within expected cardiovascular performance zones.\n",
        "* Session Duration & Calories Burned:\n",
        "    * Sessions vary from 0.5 to 2 hours.\n",
        "    * Calories burned range from 303 to 1783 kcal, with a median around 893 — good spread for modeling fitness level.\n",
        "* Fat % & Water Intake:\n",
        "    * Fat percentage from 10% to 35%\n",
        "    * Water intake between 1.5–3.7L — indicating hydration is being monitored.\n",
        "* Workout Frequency & Experience:\n",
        "    * Most work out 2–5 times/week.\n",
        "    * Experience Level ranges from 1 to 3 (Beginner to Advanced).\n",
        "* BMI\n",
        "    * Median BMI is ~24.16; 25% of users are above ~28.6 — showing potential overweight group.\n",
        "\n",
        "Conclusion:\n",
        "The dataset captures a diverse, balanced gym population, covering all experience levels and health profiles. It's well-suited for classification and clustering tasks, with rich features for meaningful dashboards and insight generation.\n"
      ]
    },
    {
      "cell_type": "markdown",
      "metadata": {
        "id": "ZY3l0-AxO93d"
      },
      "source": [
        "---"
      ]
    },
    {
      "cell_type": "markdown",
      "metadata": {},
      "source": [
        "At this stage of the project dataset inspection and preparation are over. Therefore, dataset can be saved into dedicated GitHub repository for further use in Tableau or PowerBi."
      ]
    },
    {
      "cell_type": "code",
      "execution_count": null,
      "metadata": {},
      "outputs": [],
      "source": [
        "df.to_csv('../data/cleaned_gym_members_exercise_tracking.csv', index=False)"
      ]
    },
    {
      "cell_type": "markdown",
      "metadata": {},
      "source": [
        "---"
      ]
    },
    {
      "cell_type": "markdown",
      "metadata": {
        "id": "uFQo3ycuO-v6"
      },
      "source": [
        "# Section 2"
      ]
    },
    {
      "cell_type": "markdown",
      "metadata": {},
      "source": [
        "Section 2 content"
      ]
    },
    {
      "cell_type": "code",
      "execution_count": null,
      "metadata": {},
      "outputs": [],
      "source": []
    },
    {
      "cell_type": "markdown",
      "metadata": {},
      "source": [
        "---"
      ]
    },
    {
      "cell_type": "markdown",
      "metadata": {},
      "source": [
        "NOTE"
      ]
    },
    {
      "cell_type": "markdown",
      "metadata": {},
      "source": [
        "* You may add as many sections as you want, as long as it supports your project workflow.\n",
        "* All notebook's cells should be run top-down (you can't create a dynamic wherein a given point you need to go back to a previous cell to execute some task, like go back to a previous cell and refresh a variable content)"
      ]
    },
    {
      "cell_type": "markdown",
      "metadata": {},
      "source": [
        "---"
      ]
    },
    {
      "cell_type": "markdown",
      "metadata": {
        "id": "ltNetd085qHf"
      },
      "source": [
        "# Push files to Repo"
      ]
    }
  ],
  "metadata": {
    "accelerator": "GPU",
    "colab": {
      "name": "Data Practitioner Jupyter Notebook.ipynb",
      "provenance": [],
      "toc_visible": true
    },
    "kernelspec": {
      "display_name": "Python 3",
      "language": "python",
      "name": "python3"
    },
    "language_info": {
      "codemirror_mode": {
        "name": "ipython",
        "version": 3
      },
      "file_extension": ".py",
      "mimetype": "text/x-python",
      "name": "python",
      "nbconvert_exporter": "python",
      "pygments_lexer": "ipython3",
      "version": "3.13.5"
    },
    "orig_nbformat": 2
  },
  "nbformat": 4,
  "nbformat_minor": 2
}
